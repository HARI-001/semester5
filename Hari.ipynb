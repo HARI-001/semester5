{
 "cells": [
  {
   "cell_type": "code",
   "execution_count": 34,
   "id": "213dcdb2-0cae-4f9e-bd41-2c776b041d0c",
   "metadata": {},
   "outputs": [],
   "source": [
    "list1 = [1,2,3,4,5,6,7,8,9,10]"
   ]
  },
  {
   "cell_type": "code",
   "execution_count": 2,
   "id": "9e3aa234-51c0-48fa-ae65-703eb7eb2d62",
   "metadata": {},
   "outputs": [
    {
     "data": {
      "text/plain": [
       "[1, 2, 3, 4, 5, 6, 7, 8, 9, 10]"
      ]
     },
     "execution_count": 2,
     "metadata": {},
     "output_type": "execute_result"
    }
   ],
   "source": [
    "list"
   ]
  },
  {
   "cell_type": "code",
   "execution_count": 54,
   "id": "bdb71e51-3072-49b8-9669-84b660d56305",
   "metadata": {
    "scrolled": true
   },
   "outputs": [],
   "source": [
    "def find_odd_and_even_num(list1):\n",
    "    even = []\n",
    "    odd = []\n",
    "    for i in list1:\n",
    "        if i % 2 == 0:\n",
    "            even.append(i)\n",
    "        if i % 2 != 0:\n",
    "            odd.append(i)\n",
    "    print(even)\n",
    "    print(odd)\n",
    "   \n",
    "            \n",
    "        \n",
    "    "
   ]
  },
  {
   "cell_type": "code",
   "execution_count": 55,
   "id": "a241ff4d-d885-4aec-b633-664bed07d6ae",
   "metadata": {},
   "outputs": [
    {
     "name": "stdout",
     "output_type": "stream",
     "text": [
      "[2, 4, 6, 8, 10]\n",
      "[1, 3, 5, 7, 9]\n"
     ]
    }
   ],
   "source": [
    "find_odd_and_even_num(list1)"
   ]
  },
  {
   "cell_type": "code",
   "execution_count": null,
   "id": "4fbadb07-52d9-4a5f-8312-46731a9cf19b",
   "metadata": {},
   "outputs": [],
   "source": []
  }
 ],
 "metadata": {
  "kernelspec": {
   "display_name": "Python 3 (ipykernel)",
   "language": "python",
   "name": "python3"
  },
  "language_info": {
   "codemirror_mode": {
    "name": "ipython",
    "version": 3
   },
   "file_extension": ".py",
   "mimetype": "text/x-python",
   "name": "python",
   "nbconvert_exporter": "python",
   "pygments_lexer": "ipython3",
   "version": "3.9.13"
  }
 },
 "nbformat": 4,
 "nbformat_minor": 5
}
